{
 "cells": [
  {
   "cell_type": "code",
   "execution_count": null,
   "id": "7658bcf0-9c39-4c4c-89cf-9720fae72f1a",
   "metadata": {},
   "outputs": [],
   "source": [
    "\n",
    "def load_dataset_module(file):\n",
    "    data = []\n",
    "    keys = []\n",
    "\n",
    "    with open(file, 'r') as file:\n",
    "        keys = file.readline().rstrip('\\n').split(',')\n",
    "        \n",
    "        for l in file:        \n",
    "            values = []\n",
    "            current_value = ''\n",
    "            inside_quotes = False\n",
    "            line = l.rstrip('\\n')\n",
    "\n",
    "            for char in line:\n",
    "                if char == '\"':\n",
    "                    inside_quotes = not inside_quotes # x = !x\n",
    "                elif char == ',' and not inside_quotes:\n",
    "                    values.append(current_value)\n",
    "                    current_value = ''\n",
    "                else: \n",
    "                    current_value += char\n",
    "\n",
    "            if current_value:\n",
    "                values.append(current_value)\n",
    "\n",
    "            data.append(dict(zip(keys, values)))\n",
    "\n",
    "    return data\n"
   ]
  },
  {
   "cell_type": "code",
   "execution_count": null,
   "id": "cf7c8a2d-03b8-4e58-b7cc-60922dfe6f9c",
   "metadata": {},
   "outputs": [
    {
     "data": {
      "text/plain": [
       "Traceback (most recent call last):\n",
       "  File \"/Users/tsumizu/.vscode/extensions/ms-python.python-2024.20.0-darwin-x64/python_files/python_server.py\", line 130, in exec_user_input\n",
       "    retval = callable_(user_input, user_globals)\n",
       "  File \"<string>\", line 1, in <module>\n",
       "  File \"<string>\", line 6, in load_dataset_module\n",
       "FileNotFoundError: [Errno 2] No such file or directory: './dataset/data.csv'\n",
       "\n"
      ]
     },
     "metadata": {},
     "output_type": "display_data"
    }
   ],
   "source": [
    "data = load_dataset_module(\"./data/data.csv\")"
   ]
  },
  {
   "cell_type": "code",
   "execution_count": null,
   "id": "99f10b95-76e6-49c6-99b5-674f865399cf",
   "metadata": {},
   "outputs": [],
   "source": [
    "genres_data = load_dataset_module(\"./data/data_genres.csv\")"
   ]
  },
  {
   "cell_type": "code",
   "execution_count": null,
   "id": "e658f651-8d0e-40b4-999b-c2124816c1de",
   "metadata": {},
   "outputs": [
    {
     "data": {
      "text/plain": [
       "2973"
      ]
     },
     "execution_count": 4,
     "metadata": {},
     "output_type": "execute_result"
    }
   ],
   "source": [
    "len(data)\n",
    "len(genres_data)"
   ]
  },
  {
   "cell_type": "code",
   "execution_count": null,
   "id": "70cb0be0",
   "metadata": {},
   "outputs": [
    {
     "data": {
      "text/plain": [
       "{'valence': '0.6629999999999999', 'year': '1941', 'acousticness': '0.994', 'artists': \"['Khursheed Bano']\", 'danceability': '0.505', 'duration_ms': '182813', 'energy': '0.0972', 'explicit': '0', 'id': '0rLBt2S9G1TptAfHnaX1Lc', 'instrumentalness': '0.861', 'key': '11', 'liveness': '0.136', 'loudness': '-17.219', 'mode': '1', 'name': 'Ghir Ghir Ghan Mein', 'popularity': '0', 'release_date': '01/01/1941', 'speechiness': '0.0844', 'tempo': '80.893'}\n"
      ]
     },
     "metadata": {},
     "output_type": "display_data"
    }
   ],
   "source": [
    "data[4000]"
   ]
  },
  {
   "cell_type": "code",
   "execution_count": 6,
   "id": "86b4c507",
   "metadata": {},
   "outputs": [],
   "source": [
    "def minimum_value(d, parameter):\n",
    "    data = []\n",
    "    for arr in d:\n",
    "         data.append(arr[parameter])\n",
    "         \n",
    "            \n",
    "minimum_value(data, 'valence')"
   ]
  },
  {
   "cell_type": "code",
   "execution_count": 60,
   "id": "255285ef",
   "metadata": {},
   "outputs": [
    {
     "data": {
      "text/plain": [
       "'6.409999999999999e-05'"
      ]
     },
     "execution_count": 60,
     "metadata": {},
     "output_type": "execute_result"
    }
   ],
   "source": [
    "def maximum_value(d, parameter):\n",
    "    data = []\n",
    "    for arr in d:\n",
    "         data.append(arr[parameter])\n",
    "         \n",
    "    return max(data)\n",
    "\n",
    "maximum_value(data, 'valence')"
   ]
  },
  {
   "cell_type": "code",
   "execution_count": null,
   "id": "9fe5f98d",
   "metadata": {},
   "outputs": [
    {
     "data": {
      "text/plain": [
       "0.5285872111424939"
      ]
     },
     "execution_count": 36,
     "metadata": {},
     "output_type": "execute_result"
    }
   ],
   "source": [
    "def average(d, parameter):\n",
    "    data = []\n",
    "    for arr in d:\n",
    "         data.append(eval(arr[parameter]))\n",
    "\n",
    "         \n",
    "    return sum(data) / len(data)\n",
    "\n",
    "average(data, 'valence')"
   ]
  },
  {
   "cell_type": "code",
   "execution_count": 62,
   "id": "3835b61f",
   "metadata": {},
   "outputs": [
    {
     "data": {
      "text/plain": [
       "(0.961, 718)"
      ]
     },
     "execution_count": 62,
     "metadata": {},
     "output_type": "execute_result"
    }
   ],
   "source": [
    "def mode(d, parameter):\n",
    "    data = []\n",
    "    for arr in d:\n",
    "         data.append(eval(arr[parameter]))\n",
    "    \n",
    "    numbers = {}\n",
    "    \n",
    "    for num in data:\n",
    "        if not num in numbers:\n",
    "            numbers[num] = 1\n",
    "        else:\n",
    "            numbers[num] += 1\n",
    "        \n",
    "    result = [n for n,m in numbers.items() if m == max(numbers.values())]\n",
    "    freq = numbers[result[0]]\n",
    "    \n",
    "    return (result[0], freq)\n",
    "\n",
    "mode(data, 'valence')"
   ]
  },
  {
   "cell_type": "code",
   "execution_count": 79,
   "id": "cf4bff74",
   "metadata": {},
   "outputs": [
    {
     "data": {
      "text/plain": [
       "0.06925881361025397"
      ]
     },
     "execution_count": 79,
     "metadata": {},
     "output_type": "execute_result"
    }
   ],
   "source": [
    "def variance(d, parameter):\n",
    "    data = []\n",
    "    for arr in d:\n",
    "         data.append(eval(arr[parameter]))\n",
    "    \n",
    "    mean = average(d, parameter)\n",
    "    variance = sum((x - mean) ** 2 for x in data) / len(data)\n",
    "    \n",
    "    return variance\n",
    "\n",
    "variance(data, 'valence')"
   ]
  },
  {
   "cell_type": "code",
   "execution_count": 81,
   "id": "bedc3b58",
   "metadata": {},
   "outputs": [
    {
     "data": {
      "text/plain": [
       "0.26317069291669615"
      ]
     },
     "execution_count": 81,
     "metadata": {},
     "output_type": "execute_result"
    }
   ],
   "source": [
    "\n",
    "def standard_deviation(d, parameter):\n",
    "    return variance(d, parameter) ** 0.5\n",
    "\n",
    "standard_deviation(data, 'valence')"
   ]
  },
  {
   "cell_type": "code",
   "execution_count": null,
   "id": "f45e4c2f",
   "metadata": {},
   "outputs": [],
   "source": [
    "def statistics_module(arr, parameter, options):\n",
    "    data = []\n",
    "    for obj in arr:\n",
    "         data.append(eval(obj[parameter]))\n",
    "    \n",
    "    if(options =='minimum_value'):\n",
    "        return min(data)\n",
    "    elif(options =='maximum_value'):\n",
    "        return max(data)\n",
    "    elif(options =='average'):\n",
    "        return sum(data) / len(data)\n",
    "    elif(options =='mode'):\n",
    "        numbers = {}\n",
    "        \n",
    "        for num in data:\n",
    "            if not num in numbers:\n",
    "                numbers[num] = 1\n",
    "            else:\n",
    "                numbers[num] += 1\n",
    "            \n",
    "        result = [n for n,m in numbers.items() if m == max(numbers.values())]\n",
    "        freq = numbers[result[0]]\n",
    "        \n",
    "        return (result[0], freq)\n",
    "    elif(options =='variance'):\n",
    "        mean = sum(data) / len(data)\n",
    "        variance = sum((x - mean) ** 2 for x in data) / len(data)\n",
    "        return variance\n",
    "    elif(options =='standard_deviation'):\n",
    "        return variance(data) ** 0.5\n",
    "    else:\n",
    "        return 'Invalid option'"
   ]
  },
  {
   "cell_type": "markdown",
   "id": "0d30daaf",
   "metadata": {},
   "source": [
    "#3"
   ]
  },
  {
   "cell_type": "code",
   "execution_count": null,
   "id": "733c763a",
   "metadata": {},
   "outputs": [],
   "source": []
  }
 ],
 "metadata": {
  "kernelspec": {
   "display_name": "Python 3",
   "language": "python",
   "name": "python3"
  },
  "language_info": {
   "codemirror_mode": {
    "name": "ipython",
    "version": 3
   },
   "file_extension": ".py",
   "mimetype": "text/x-python",
   "name": "python",
   "nbconvert_exporter": "python",
   "pygments_lexer": "ipython3",
   "version": "3.12.5"
  }
 },
 "nbformat": 4,
 "nbformat_minor": 5
}

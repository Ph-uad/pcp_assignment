{
 "cells": [
  {
   "cell_type": "code",
   "execution_count": null,
   "metadata": {},
   "outputs": [
    {
     "name": "stdout",
     "output_type": "stream",
     "text": [
      "Hello there!\n",
      "My name is Phuad, Welcom to my PCP assignment demonstration\n",
      "We are going to analyze a musical dataset by performing a number of stastical equations.\n",
      "What is your name ¿\n"
     ]
    }
   ],
   "source": [
    "from data_module import load_dataset_module as loader\n",
    "from statistics_module import statistics_module as stats\n",
    "\n",
    "\n",
    "data = loader(\"./data/data.csv\")\n",
    "genre_data = loader(\"./data/data_genres.csv\")\n",
    "\n",
    "# Introduction\n",
    "print(\"Hello there!\")\n",
    "print(\"My name is Phuad, Welcom to my PCP assignment demonstration\")\n",
    "print(\"We are going to analyze a musical dataset by performing a number of stastical equations.\")\n",
    "print(\"What is your name ¿\")\n",
    "name = input()\n",
    "\n",
    "print(f\"Hello, {name}!\")\n",
    "analyse= input(\"What would you like to do? (Options: '1. analyze', '0. quit')\")\n",
    "\n",
    "if analyse == '1' or analyse == 'analyse':\n",
    "    print(\"Let's start with some basic statistics on the dataset.\")\n",
    "    print(\"What would you like to calculate? \\n Pick an options \\n 1: Mode \\n 2: Maximum Value  \\n 3: Average \\n 4: Minimum Value \\n 5: Variance \\n 6: Standard Deviation \")\n",
    "    option = input(\"1: Mode \\n 2: Maximum Value  \\n 3: Average \\n 4: Minimum Value \\n 5: Variance \\n 6: Standard Deviation \")\n",
    "    print(\"Which Feauture would you like to analyze? \\n Pick an options \\n 1: Valence \\n 2: Energy \\n 3: Danceability \\n 4: Loudness \\n 5: Acousticness \\n 6: Instrumentalness \\n 7: Liveness \\n 8: Tempo \\n 9: Duration \\n 10: Time signature \\n:\")\n",
    "    parameter = input(\"1: Valence \\n 2: Energy \\n 3: Danceability \\n 4: Loudness \\n 5: Acousticness \\n 6: Instrumentalness \\n 7: Liveness \\n 8: Tempo \\n 9: Duration \\n 10: Time signature \\n:\")\n",
    "\n",
    "\n",
    "    parameter_option = {1: \"Valence\" , 2: \"Energy\" , 3: \"Danceability\" , 4: \"Loudness\" , \n",
    "                    5: \"Acousticness\" , 6: \"Instrumentalness\" , 7: \"Liveness\" ,\n",
    "                    8: \"Tempo\" ,9: \"Duration\" , 10 :\" Time signature\"}\n",
    "    \n",
    "    parameter =  parameter = parameter_option.get(parameter, parameter)\n",
    "    \n",
    "    print(option, parameter)\n",
    "    result = stats(data, parameter.lower(), option)\n",
    "    print(f\"The {option} of {parameter} is {result}\")\n",
    "else:\n",
    "    print(\"Goodbye!\")\n",
    "\n",
    "# print(data[132541])\n",
    "# print(genre_data[0])"
   ]
  },
  {
   "cell_type": "code",
   "execution_count": null,
   "metadata": {},
   "outputs": [],
   "source": [
    "parameter_option = {1: \"Valence\" , 2: \"Energy\" , 3: \"Danceability\" , 4: \"Loudness\" , \n",
    "                    5: \"Acousticness\" , 6: \"Instrumentalness\" , 7: \"Liveness\" ,\n",
    "                    8: \"Tempo\" ,9: \"Duration\" , 10 :\" Time signature\"}"
   ]
  },
  {
   "cell_type": "code",
   "execution_count": 8,
   "metadata": {},
   "outputs": [
    {
     "data": {
      "text/plain": [
       "'Valence'"
      ]
     },
     "execution_count": 8,
     "metadata": {},
     "output_type": "execute_result"
    }
   ],
   "source": [
    "parameter_option[1]"
   ]
  },
  {
   "cell_type": "code",
   "execution_count": 17,
   "metadata": {},
   "outputs": [
    {
     "name": "stdout",
     "output_type": "stream",
     "text": [
      "EneRgy\n"
     ]
    }
   ],
   "source": [
    "parameter = \"EneRgy\"\n",
    "parameter_option = {1: \"Valence\" , 2: \"Energy\" , 3: \"Danceability\" , 4: \"Loudness\" , \n",
    "                    5: \"Acousticness\" , 6: \"Instrumentalness\" , 7: \"Liveness\" ,\n",
    "                    8: \"Tempo\" ,9: \"Duration\" , 10 :\" Time signature\"}\n",
    "    \n",
    "parameter =  parameter = parameter_option.get(parameter, parameter)\n",
    "\n",
    "print(parameter)"
   ]
  },
  {
   "cell_type": "code",
   "execution_count": null,
   "metadata": {},
   "outputs": [],
   "source": []
  }
 ],
 "metadata": {
  "kernelspec": {
   "display_name": "Python 3",
   "language": "python",
   "name": "python3"
  },
  "language_info": {
   "codemirror_mode": {
    "name": "ipython",
    "version": 3
   },
   "file_extension": ".py",
   "mimetype": "text/x-python",
   "name": "python",
   "nbconvert_exporter": "python",
   "pygments_lexer": "ipython3",
   "version": "3.9.6"
  }
 },
 "nbformat": 4,
 "nbformat_minor": 2
}
